{
 "cells": [
  {
   "cell_type": "markdown",
   "metadata": {},
   "source": [
    "#### Leonardo Pereira Medeiros"
   ]
  },
  {
   "cell_type": "markdown",
   "metadata": {},
   "source": [
    "## Introdução"
   ]
  },
  {
   "cell_type": "markdown",
   "metadata": {},
   "source": [
    "Este projeto consiste na implementação de um sistema físico 2D, com a finalidade de aplicar técnicas de vetorização definidas pelo método SIMD (Single Instruction, Multiple Data), e analisar suas vantagens quanto ao ganho de desempenho de tempo de execução.\n",
    "\n",
    "A Vetorização é o processo de usar registradores vetoriais, ao invés de registradores escalares, em uma tentativa de fazer o programa rodar mais rápido, ao converter um algoritmo de operar um valor por vez para operar um conjunto de valores de uma só vez, ou seja, uma unica instrução é aplicada a um conjunto de elementos (vetor) de forma paralela\n",
    "\n",
    "Um método de auto vetorização pode ser aplicado em um algoritmo de forma automática, se especificado durante a compilação, porém não é garantido que este funcione, pois depende da estrutura do código implementado, logo também é possível utilizar funções simd ao escrever um algoritmo, de forma a garantir que a vetorização ocorra.\n",
    "\n",
    "Para a vetorização a flag ftree-vectorize deve ser utilizada durante a compilação, com flags adicionais que definem outros tipos de arquitetura do processo de vetorização como mavx e mavx2. Ambas estruturas possuem maior desempenho, por possuírem um vetor maior para armazenamento, mas ao comparar o mavx com o mavx2, este se destaca neste quesito, logo tem-se que essas arquiteturas apresentadas possuem uma limitação, definida pelo tamanho do registrador vetorial."
   ]
  },
  {
   "cell_type": "markdown",
   "metadata": {},
   "source": [
    "## Descrição do Problema"
   ]
  },
  {
   "cell_type": "markdown",
   "metadata": {},
   "source": [
    "O problema a ser tratado consiste em uma simulação de física 2D, dentro desse sistema há corpos se movimentando em um plano que possui tamanho limite de campo, e coeficiente de atrito dinâmico, considerar as colisões entre os retângulos e as paredes definidas pelo tamanho limite\n",
    "\n",
    "para tal sistema são feitas algumas simplificações, em que todo corpo é representado por um retângulo, que possui massa, posição, velocidade e aceleração, estes não possuem velocidade angular, as colisões nesse sistema são sempre totalmente elásticas (a energia cinética total se conserva), na ocasião em que no próximo movimento do corpo haverá colisão somente altera-se seus vetores de velocidade. Ou seja, em cada iteração só é atualizado a posição de um corpo se ele não colidir com outro corpo.\n"
   ]
  },
  {
   "cell_type": "markdown",
   "metadata": {},
   "source": [
    "## Implementação"
   ]
  },
  {
   "cell_type": "markdown",
   "metadata": {},
   "source": [
    "O programa contém dois componentes principais, o metodo main e a classe Retangulo.\n",
    "\n",
    "A classe retângulo representa a classe dos corpos do sistema, cada corpo é criado ao instanciar esse componente passando para seu construtor as informações iniciais obtidas pelo arquivo de input, esta classe possui o método move, responsável por calcular a nova posição de cada componente em cada iteração.\n",
    "\n",
    "O método main utiliza métodos auxiliares para ler o input inicial, e mostrar o estado dos componentes, definido por uma frequência no arquivo de input, sua principal função é executar o fluxo lógico do algoritmo, movendo todos os objetos, e em seguida analisando possíveis colisões com a parede ou com os outros corpos do sistema, para decidir sobre alterar ou não a posição do componente, assim como alterar sua velocidade;"
   ]
  },
  {
   "cell_type": "markdown",
   "metadata": {},
   "source": [
    "## Testes"
   ]
  },
  {
   "cell_type": "markdown",
   "metadata": {},
   "source": [
    "Os inputs selecionados para testar o desempenho da aplicação de técnicas de vetorização, foram formulados de forma a tentar levar ao máximo o processamento da cpu, como o programa exige mais processamento quando há um grande número de iterações e um grande número de corpos no sistema, esses valores foram testados de forma crescente, e com grandes intervalos, a fim de tentar tornar mais visível o poder de aplicar essa técnica para diferentes requisições de processamento, com a finalidade de a aumentar o desempenho. \n",
    "\n",
    "Logo os seguintes inputs foram usados:\n",
    "\n",
    "input 1: <br>\n",
    "Numero de Retangulos: 100<br>\n",
    "Maximo de Iterações : 10000<br>\n",
    "\n",
    "input 2:<br>\n",
    "Numero de Retangulos: 100<br>\n",
    "Maximo de Iterações : 100000<br>\n",
    "\n",
    "input 3:<br>\n",
    "Numero de Retangulos: 100<br>\n",
    "Maximo de Iterações : 300000<br>\n",
    "\n",
    "input 4:<br>\n",
    "Numero de Retangulos: 100<br>\n",
    "Maximo de Iterações : 500000<br>\n",
    "\n",
    "Caso queira analisar o resto do conteúdo desses arquivos, todos esses estão no repositório do projeto, dentro da pasta jupyter.\n",
    "\n",
    "Foi definido como variável de desempenho  o tempo de execução do programa, este foi mensurado com a biblioteca chrono, que fornece funções de alta resolução baseado em clock. Como deseja-se medir apenas o desempenho do algoritmo do sistema 2D implementado, a medição não leva em conta o tempo gasto na leitura do arquivo de input, e outros processos similares.  \n",
    "\n",
    "Obs: toda a veracidade do código foi testado com um script em python, contido no repositório do projeto, que tem seu modo de uso descrito no README, este script utiliza de testes designados para cada subtarefa, como teste de atrito, colisão com parede, colisão vertical entre corpos, e colisão horizontal entre corpos, com a finalidade de evitar erros."
   ]
  },
  {
   "cell_type": "markdown",
   "metadata": {},
   "source": [
    "## Resultados"
   ]
  },
  {
   "cell_type": "code",
   "execution_count": 1,
   "metadata": {},
   "outputs": [],
   "source": [
    "## Import dependences\n",
    "import pandas as pd\n",
    "import sys\n",
    "import subprocess\n",
    "import re"
   ]
  },
  {
   "cell_type": "code",
   "execution_count": 2,
   "metadata": {},
   "outputs": [],
   "source": [
    "## files\n",
    "_dir    = \"../build/\"\n",
    "_files  = [\"simulation_O0\", \"simulation_O1\", \"simulation_O2\", \"simulation_O3\", \"simulation_O3F\"]\n",
    "_inputs = [\"input1.txt\", \"input2.txt\", \"input3.txt\", \"input4.txt\"]"
   ]
  },
  {
   "cell_type": "code",
   "execution_count": 3,
   "metadata": {},
   "outputs": [],
   "source": [
    "n_rects   = []\n",
    "max_iters = []\n",
    "dic       = {}\n",
    "\n",
    "## Run files and storage output\n",
    "for inp in _inputs:\n",
    "    dic[inp[0:-4]] = {}\n",
    "      \n",
    "    for f in _files:\n",
    "        command = _dir + f + \" < \" + inp\n",
    "        stout   = subprocess.check_output(command, shell=True).decode(sys.stdout.encoding)\n",
    "        dic[inp[0:-4]][f]  = float(stout.split(\"\\n\")[-1].split(\":\")[1])\n",
    "        #float(re.findall(r\"Runtime: (\\d+\\.\\d*)\", stout)[0]) \n",
    "    \n",
    "    maxIter = int([v for v in stout.split(\"\\n\") if \" \" not in v and v.isnumeric()][-1]) + 1\n",
    "    \n",
    "    with open(inp, 'r') as f:\n",
    "        nrect = f.read().split(\"\\n\")[1]\n",
    "     \n",
    "    max_iters.append(maxIter)\n",
    "    n_rects.append(nrect)"
   ]
  },
  {
   "cell_type": "code",
   "execution_count": 4,
   "metadata": {},
   "outputs": [
    {
     "data": {
      "text/html": [
       "<div>\n",
       "<style scoped>\n",
       "    .dataframe tbody tr th:only-of-type {\n",
       "        vertical-align: middle;\n",
       "    }\n",
       "\n",
       "    .dataframe tbody tr th {\n",
       "        vertical-align: top;\n",
       "    }\n",
       "\n",
       "    .dataframe thead th {\n",
       "        text-align: right;\n",
       "    }\n",
       "</style>\n",
       "<table border=\"1\" class=\"dataframe\">\n",
       "  <thead>\n",
       "    <tr style=\"text-align: right;\">\n",
       "      <th></th>\n",
       "      <th>Itr</th>\n",
       "      <th>N</th>\n",
       "      <th>O0</th>\n",
       "      <th>O1</th>\n",
       "      <th>O2</th>\n",
       "      <th>O3</th>\n",
       "      <th>O3F</th>\n",
       "    </tr>\n",
       "  </thead>\n",
       "  <tbody>\n",
       "    <tr>\n",
       "      <th>input1</th>\n",
       "      <td>10000</td>\n",
       "      <td>100</td>\n",
       "      <td>4.60946</td>\n",
       "      <td>0.506275</td>\n",
       "      <td>0.487792</td>\n",
       "      <td>0.487105</td>\n",
       "      <td>0.465954</td>\n",
       "    </tr>\n",
       "    <tr>\n",
       "      <th>input2</th>\n",
       "      <td>100000</td>\n",
       "      <td>100</td>\n",
       "      <td>48.89020</td>\n",
       "      <td>5.004710</td>\n",
       "      <td>4.550440</td>\n",
       "      <td>4.462970</td>\n",
       "      <td>3.921660</td>\n",
       "    </tr>\n",
       "    <tr>\n",
       "      <th>input3</th>\n",
       "      <td>300000</td>\n",
       "      <td>100</td>\n",
       "      <td>152.34700</td>\n",
       "      <td>14.997800</td>\n",
       "      <td>13.274000</td>\n",
       "      <td>13.555200</td>\n",
       "      <td>11.939800</td>\n",
       "    </tr>\n",
       "    <tr>\n",
       "      <th>input4</th>\n",
       "      <td>500000</td>\n",
       "      <td>100</td>\n",
       "      <td>257.59900</td>\n",
       "      <td>23.668600</td>\n",
       "      <td>22.524600</td>\n",
       "      <td>23.971600</td>\n",
       "      <td>20.055500</td>\n",
       "    </tr>\n",
       "  </tbody>\n",
       "</table>\n",
       "</div>"
      ],
      "text/plain": [
       "           Itr    N         O0         O1         O2         O3        O3F\n",
       "input1   10000  100    4.60946   0.506275   0.487792   0.487105   0.465954\n",
       "input2  100000  100   48.89020   5.004710   4.550440   4.462970   3.921660\n",
       "input3  300000  100  152.34700  14.997800  13.274000  13.555200  11.939800\n",
       "input4  500000  100  257.59900  23.668600  22.524600  23.971600  20.055500"
      ]
     },
     "execution_count": 4,
     "metadata": {},
     "output_type": "execute_result"
    }
   ],
   "source": [
    "## Generate Dataframe \n",
    "s0  = [dic[\"input1\"][\"simulation_O0\"], dic[\"input2\"][\"simulation_O0\"], dic[\"input3\"][\"simulation_O0\"], dic[\"input4\"][\"simulation_O0\"]]\n",
    "s1  = [dic[\"input1\"][\"simulation_O1\"], dic[\"input2\"][\"simulation_O1\"], dic[\"input3\"][\"simulation_O1\"], dic[\"input4\"][\"simulation_O1\"]]\n",
    "s2  = [dic[\"input1\"][\"simulation_O2\"], dic[\"input2\"][\"simulation_O2\"], dic[\"input3\"][\"simulation_O2\"], dic[\"input4\"][\"simulation_O2\"]]\n",
    "s3  = [dic[\"input1\"][\"simulation_O3\"], dic[\"input2\"][\"simulation_O3\"], dic[\"input3\"][\"simulation_O3\"], dic[\"input4\"][\"simulation_O3\"]]\n",
    "s3F = [dic[\"input1\"][\"simulation_O3F\"], dic[\"input2\"][\"simulation_O3F\"], dic[\"input3\"][\"simulation_O3F\"], dic[\"input4\"][\"simulation_O3F\"]]\n",
    "\n",
    "df = pd.DataFrame({\"O0\":s0, \"O1\":s1, \"O2\":s2, \"O3\":s3, \"O3F\":s3F, \"N\": n_rects , \"Itr\": max_iters}, index = dic.keys())\n",
    "df"
   ]
  },
  {
   "cell_type": "markdown",
   "metadata": {},
   "source": [
    "itr : Maximo de iterações realizadas pelo programa, levando em conta que se a soma das velocidade dos retangulos for menor que 0.001 o systema para, cessando as iterações<br>\n",
    "n   : Quantidade de corpos no sistema"
   ]
  },
  {
   "cell_type": "code",
   "execution_count": 8,
   "metadata": {},
   "outputs": [
    {
     "data": {
      "text/plain": [
       "<matplotlib.axes._subplots.AxesSubplot at 0x7f6a3ec01fd0>"
      ]
     },
     "execution_count": 8,
     "metadata": {},
     "output_type": "execute_result"
    },
    {
     "data": {
      "image/png": "[encoded data removed]",
      "text/plain": [
       "<Figure size 1080x576 with 1 Axes>"
      ]
     },
     "metadata": {
      "needs_background": "light"
     },
     "output_type": "display_data"
    }
   ],
   "source": [
    "df2 = df.copy().drop(columns=['Itr', 'N'])\n",
    "df2.plot.bar(figsize = (15,8), title = \"Time X input\")"
   ]
  },
  {
   "cell_type": "markdown",
   "metadata": {},
   "source": [
    "## Conclusão"
   ]
  },
  {
   "cell_type": "markdown",
   "metadata": {},
   "source": [
    "Inicialmente o esperado como resultado para os testes utilizados, é as compilações em O0 sejam a menos eficiente, as compilações em 01, 02 e 03 estejam na segunda colocação de maior desempenho, e as compilações em O3 com as flags free-vectorize e mavx seja a que gere melhores resultados.\n",
    "\n",
    "O que foi comprovado parcialmente pelos resultados obtidos, como podemos observar o menor desempenho em tempo de execução foi com a compilação O0, porém não há grande diferença entre o desempenho com a compilação 03 e flags, comparadas com as compilações restantes.\n",
    "\n",
    "Esse fato pode ter ocorrido devido a estrutura do código não suportar muito bem essa melhoria de vetorização, o que pode ser resolvido em atualizações futuras ao utilizar intruções SIMD.\n"
   ]
  },
  {
   "cell_type": "markdown",
   "metadata": {},
   "source": [
    "## Especificações da Maquina utilizada"
   ]
  },
  {
   "cell_type": "markdown",
   "metadata": {},
   "source": [
    "```\n",
    "Arquitetura:                x86_64\n",
    "Modo(s) operacional da CPU: 32-bit, 64-bit\n",
    "Ordem dos bytes:            Little Endian\n",
    "CPU(s):                     4\n",
    "Lista de CPU(s) on-line:    0-3\n",
    "Thread(s) per núcleo:       2\n",
    "Núcleo(s) por soquete:      2\n",
    "Soquete(s):                 1\n",
    "Nó(s) de NUMA:              1\n",
    "ID de fornecedor:           GenuineIntel\n",
    "Família da CPU:             6\n",
    "Modelo:                     61\n",
    "Nome do modelo:             Intel(R) Core(TM) i7-5500U CPU @ 2.40GHz\n",
    "Step:                       4\n",
    "CPU MHz:                    2430.779\n",
    "CPU MHz máx.:               3000,0000\n",
    "CPU MHz mín.:               500,0000\n",
    "BogoMIPS:                   4788.89\n",
    "Virtualização:              VT-x\n",
    "cache de L1d:               32K\n",
    "cache de L1i:               32K\n",
    "cache de L2:                256K\n",
    "cache de L3:                4096K\n",
    "CPU(s) de nó0 NUMA:         0-3\n",
    "```"
   ]
  }
 ],
 "metadata": {
  "kernelspec": {
   "display_name": "Python 3",
   "language": "python",
   "name": "python3"
  },
  "language_info": {
   "codemirror_mode": {
    "name": "ipython",
    "version": 3
   },
   "file_extension": ".py",
   "mimetype": "text/x-python",
   "name": "python",
   "nbconvert_exporter": "python",
   "pygments_lexer": "ipython3",
   "version": "3.6.8"
  }
 },
 "nbformat": 4,
 "nbformat_minor": 2
}
